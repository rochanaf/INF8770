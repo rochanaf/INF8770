{
 "cells": [
  {
   "cell_type": "code",
   "execution_count": 67,
   "metadata": {},
   "outputs": [],
   "source": [
    "import cv2\n",
    "import numpy as np\n",
    "import scipy\n",
    "import matplotlib.pyplot as plt\n",
    "import matplotlib\n",
    "import os\n",
    "from PIL import Image"
   ]
  },
  {
   "cell_type": "markdown",
   "metadata": {},
   "source": [
    "## Question 2"
   ]
  },
  {
   "cell_type": "code",
   "execution_count": 3,
   "metadata": {},
   "outputs": [],
   "source": [
    "class Image():\n",
    "    def __init__(self, name, distance):\n",
    "        self.name = name\n",
    "        self.distance = distance\n",
    "        self.category = name.split(\"_\")[0]"
   ]
  },
  {
   "cell_type": "code",
   "execution_count": 4,
   "metadata": {},
   "outputs": [],
   "source": [
    "def add_To_Table(table,img,distance): \n",
    "    index = 0\n",
    "    for image in table:\n",
    "        if (image.distance > distance):\n",
    "            table[0] = Image(img,distance)\n",
    "            return table\n",
    "        index+=1\n",
    "    return table\n"
   ]
  },
  {
   "cell_type": "code",
   "execution_count": 74,
   "metadata": {},
   "outputs": [],
   "source": [
    "def distance_euclidienne(distTable,imgRequest, imgDB,name):\n",
    "    dist = 0\n",
    "    table = []\n",
    "\n",
    "    imgDB.resize((imgRequest.shape[0],imgRequest.shape[1]),refcheck=False)\n",
    "    dist = np.linalg.norm(imgRequest - imgDB)\n",
    "    # for i in range(len(imgRequest)):\n",
    "    #     for j in range(len(imgDB)):\n",
    "    #         dist += np.linalg.norm(imgRequest[i][j] - imgDB[i][j])\n",
    "\n",
    "    if(dist==0): \n",
    "        table.append(Image(name,dist))\n",
    "        return table\n",
    "    else: \n",
    "        if(len(distTable)<3): \n",
    "            distTable.append(Image(name,dist))\n",
    "            distTable.sort(key=lambda x: x.distance, reverse=True)\n",
    "        else: distTable = add_To_Table(distTable,name,dist)\n",
    "\n",
    "    return distTable"
   ]
  },
  {
   "cell_type": "code",
   "execution_count": 75,
   "metadata": {},
   "outputs": [
    {
     "ename": "TypeError",
     "evalue": "'module' object is not callable",
     "output_type": "error",
     "traceback": [
      "\u001b[0;31m---------------------------------------------------------------------------\u001b[0m",
      "\u001b[0;31mTypeError\u001b[0m                                 Traceback (most recent call last)",
      "Cell \u001b[0;32mIn [75], line 8\u001b[0m\n\u001b[1;32m      6\u001b[0m fileName \u001b[39m=\u001b[39m fullName\u001b[39m.\u001b[39msplit(\u001b[39m'\u001b[39m\u001b[39m./banque d_images/\u001b[39m\u001b[39m'\u001b[39m)[\u001b[39m1\u001b[39m]\n\u001b[1;32m      7\u001b[0m imgDB \u001b[39m=\u001b[39m cv2\u001b[39m.\u001b[39mimread(fullName\u001b[39m+\u001b[39m \u001b[39m'\u001b[39m\u001b[39m.png\u001b[39m\u001b[39m'\u001b[39m,cv2\u001b[39m.\u001b[39mIMREAD_GRAYSCALE)\n\u001b[0;32m----> 8\u001b[0m distTable \u001b[39m=\u001b[39m distance_euclidienne(distTable,imgRequest, imgDB,fileName)\n",
      "Cell \u001b[0;32mIn [74], line 16\u001b[0m, in \u001b[0;36mdistance_euclidienne\u001b[0;34m(distTable, imgRequest, imgDB, name)\u001b[0m\n\u001b[1;32m     14\u001b[0m \u001b[39melse\u001b[39;00m: \n\u001b[1;32m     15\u001b[0m     \u001b[39mif\u001b[39;00m(\u001b[39mlen\u001b[39m(distTable)\u001b[39m<\u001b[39m\u001b[39m3\u001b[39m): \n\u001b[0;32m---> 16\u001b[0m         distTable\u001b[39m.\u001b[39mappend(Image(name,dist))\n\u001b[1;32m     17\u001b[0m         distTable\u001b[39m.\u001b[39msort(key\u001b[39m=\u001b[39m\u001b[39mlambda\u001b[39;00m x: x\u001b[39m.\u001b[39mdistance, reverse\u001b[39m=\u001b[39m\u001b[39mTrue\u001b[39;00m)\n\u001b[1;32m     18\u001b[0m     \u001b[39melse\u001b[39;00m: distTable \u001b[39m=\u001b[39m add_To_Table(distTable,name,dist)\n",
      "\u001b[0;31mTypeError\u001b[0m: 'module' object is not callable"
     ]
    }
   ],
   "source": [
    "imgRequest = cv2.imread('./images de requête/requete_1.png',cv2.IMREAD_GRAYSCALE)\n",
    "distTable = []\n",
    "\n",
    "for file in os.scandir('./banque d_images/'):\n",
    "    fullName = os.path.splitext(file)[0]\n",
    "    fileName = fullName.split('./banque d_images/')[1]\n",
    "    imgDB = cv2.imread(fullName+ '.png',cv2.IMREAD_GRAYSCALE)\n",
    "    distTable = distance_euclidienne(distTable,imgRequest, imgDB,fileName)\n"
   ]
  }
 ],
 "metadata": {
  "kernelspec": {
   "display_name": "Python 3.9.13 64-bit",
   "language": "python",
   "name": "python3"
  },
  "language_info": {
   "codemirror_mode": {
    "name": "ipython",
    "version": 3
   },
   "file_extension": ".py",
   "mimetype": "text/x-python",
   "name": "python",
   "nbconvert_exporter": "python",
   "pygments_lexer": "ipython3",
   "version": "3.9.13"
  },
  "vscode": {
   "interpreter": {
    "hash": "aee8b7b246df8f9039afb4144a1f6fd8d2ca17a180786b69acc140d282b71a49"
   }
  }
 },
 "nbformat": 4,
 "nbformat_minor": 4
}
